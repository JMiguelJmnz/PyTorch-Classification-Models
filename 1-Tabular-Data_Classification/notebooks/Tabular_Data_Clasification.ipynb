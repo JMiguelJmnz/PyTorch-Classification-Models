{
 "cells": [
  {
   "cell_type": "code",
   "execution_count": 114,
   "id": "13334053",
   "metadata": {},
   "outputs": [
    {
     "name": "stdout",
     "output_type": "stream",
     "text": [
      "Note: you may need to restart the kernel to use updated packages.\n",
      "Skipping, found downloaded files in \".\\rice-type-classification\" (use force=True to force download)\n"
     ]
    }
   ],
   "source": [
    "# Tabular Clasification with Pytorch\n",
    "\n",
    "%pip install opendatasets --quiet\n",
    "import opendatasets as od\n",
    "od.download(\"https://www.kaggle.com/datasets/mssmartypants/rice-type-classification\")"
   ]
  },
  {
   "cell_type": "code",
   "execution_count": 115,
   "id": "2e15e78a",
   "metadata": {},
   "outputs": [
    {
     "name": "stdout",
     "output_type": "stream",
     "text": [
      "Looking in indexes: https://download.pytorch.org/whl/cu118\n",
      "Requirement already satisfied: torch in c:\\users\\blewos\\anaconda3\\lib\\site-packages (2.6.0+cu118)\n",
      "Requirement already satisfied: torchvision in c:\\users\\blewos\\anaconda3\\lib\\site-packages (0.21.0+cu118)\n",
      "Requirement already satisfied: torchaudio in c:\\users\\blewos\\anaconda3\\lib\\site-packages (2.6.0+cu118)\n",
      "Requirement already satisfied: filelock in c:\\users\\blewos\\anaconda3\\lib\\site-packages (from torch) (3.13.1)\n",
      "Requirement already satisfied: typing-extensions>=4.10.0 in c:\\users\\blewos\\anaconda3\\lib\\site-packages (from torch) (4.11.0)\n",
      "Requirement already satisfied: networkx in c:\\users\\blewos\\anaconda3\\lib\\site-packages (from torch) (3.3)\n",
      "Requirement already satisfied: jinja2 in c:\\users\\blewos\\anaconda3\\lib\\site-packages (from torch) (3.0.3)\n",
      "Requirement already satisfied: fsspec in c:\\users\\blewos\\anaconda3\\lib\\site-packages (from torch) (2024.6.1)\n",
      "Requirement already satisfied: setuptools in c:\\users\\blewos\\anaconda3\\lib\\site-packages (from torch) (75.8.0)\n",
      "Requirement already satisfied: sympy==1.13.1 in c:\\users\\blewos\\anaconda3\\lib\\site-packages (from torch) (1.13.1)\n",
      "Requirement already satisfied: mpmath<1.4,>=1.1.0 in c:\\users\\blewos\\anaconda3\\lib\\site-packages (from sympy==1.13.1->torch) (1.3.0)\n",
      "Requirement already satisfied: numpy in c:\\users\\blewos\\anaconda3\\lib\\site-packages (from torchvision) (1.26.4)\n",
      "Requirement already satisfied: pillow!=8.3.*,>=5.3.0 in c:\\users\\blewos\\anaconda3\\lib\\site-packages (from torchvision) (11.1.0)\n",
      "Requirement already satisfied: MarkupSafe>=2.0 in c:\\users\\blewos\\anaconda3\\lib\\site-packages (from jinja2->torch) (2.1.3)\n",
      "Note: you may need to restart the kernel to use updated packages.\n"
     ]
    }
   ],
   "source": [
    "%pip install torch torchvision torchaudio --index-url https://download.pytorch.org/whl/cu118"
   ]
  },
  {
   "cell_type": "code",
   "execution_count": 116,
   "id": "fa6005be",
   "metadata": {},
   "outputs": [
    {
     "name": "stdout",
     "output_type": "stream",
     "text": [
      "Requirement already satisfied: torchsummary in c:\\users\\blewos\\anaconda3\\lib\\site-packages (1.5.1)\n",
      "Note: you may need to restart the kernel to use updated packages.\n"
     ]
    }
   ],
   "source": [
    "%pip install torchsummary"
   ]
  },
  {
   "cell_type": "code",
   "execution_count": 117,
   "id": "4fa22f1d",
   "metadata": {},
   "outputs": [],
   "source": [
    "import torch\n",
    "import torch.nn as nn\n",
    "from torch.optim import Adam\n",
    "from torch.utils.data import Dataset, DataLoader\n",
    "from torchsummary import summary\n",
    "from sklearn.model_selection import train_test_split\n",
    "from sklearn.metrics import accuracy_score\n",
    "import matplotlib.pyplot as plt\n",
    "import pandas as pd\n",
    "import numpy as np\n",
    "from pathlib import Path\n",
    "import os"
   ]
  },
  {
   "cell_type": "code",
   "execution_count": 118,
   "id": "be2549e3",
   "metadata": {},
   "outputs": [
    {
     "name": "stdout",
     "output_type": "stream",
     "text": [
      "cuda\n",
      "True\n",
      "NVIDIA GeForce RTX 3060\n"
     ]
    }
   ],
   "source": [
    "device = torch.device(\"cuda\" if torch.cuda.is_available() else \"cpu\")\n",
    "print(device)\n",
    "print(torch.cuda.is_available())  # Should print: True\n",
    "print(torch.cuda.get_device_name())  # Should print your GPU name"
   ]
  },
  {
   "cell_type": "code",
   "execution_count": 119,
   "id": "a7933ceb",
   "metadata": {},
   "outputs": [
    {
     "data": {
      "application/vnd.microsoft.datawrangler.viewer.v0+json": {
       "columns": [
        {
         "name": "index",
         "rawType": "int64",
         "type": "integer"
        },
        {
         "name": "id",
         "rawType": "int64",
         "type": "integer"
        },
        {
         "name": "Area",
         "rawType": "int64",
         "type": "integer"
        },
        {
         "name": "MajorAxisLength",
         "rawType": "float64",
         "type": "float"
        },
        {
         "name": "MinorAxisLength",
         "rawType": "float64",
         "type": "float"
        },
        {
         "name": "Eccentricity",
         "rawType": "float64",
         "type": "float"
        },
        {
         "name": "ConvexArea",
         "rawType": "int64",
         "type": "integer"
        },
        {
         "name": "EquivDiameter",
         "rawType": "float64",
         "type": "float"
        },
        {
         "name": "Extent",
         "rawType": "float64",
         "type": "float"
        },
        {
         "name": "Perimeter",
         "rawType": "float64",
         "type": "float"
        },
        {
         "name": "Roundness",
         "rawType": "float64",
         "type": "float"
        },
        {
         "name": "AspectRation",
         "rawType": "float64",
         "type": "float"
        },
        {
         "name": "Class",
         "rawType": "int64",
         "type": "integer"
        }
       ],
       "conversionMethod": "pd.DataFrame",
       "ref": "03fa7b41-7a0d-4cd7-aa98-f49cdaa315e3",
       "rows": [
        [
         "0",
         "1",
         "4537",
         "92.2293165",
         "64.01276874",
         "0.7199162256",
         "4677",
         "76.00452496",
         "0.6575362319",
         "273.085",
         "0.7645096145",
         "1.440795615",
         "1"
        ],
        [
         "1",
         "2",
         "2872",
         "74.69188071",
         "51.40045446",
         "0.7255527468",
         "3015",
         "60.47101762",
         "0.7130089374",
         "208.317",
         "0.8316582009",
         "1.453136582",
         "1"
        ],
        [
         "2",
         "3",
         "3048",
         "76.2931638",
         "52.04349114",
         "0.7312109273",
         "3132",
         "62.29634124",
         "0.7591531756",
         "210.012",
         "0.8684335737",
         "1.465950153",
         "1"
        ],
        [
         "3",
         "4",
         "3073",
         "77.03362772",
         "51.92848667",
         "0.7386386945",
         "3157",
         "62.55129991",
         "0.7835288118",
         "210.657",
         "0.8702031163",
         "1.48345605",
         "1"
        ],
        [
         "4",
         "5",
         "3693",
         "85.12478457",
         "56.37402054",
         "0.7492815788",
         "3802",
         "68.5716679",
         "0.769375",
         "230.332",
         "0.8747432792",
         "1.51000024",
         "1"
        ]
       ],
       "shape": {
        "columns": 12,
        "rows": 5
       }
      },
      "text/html": [
       "<div>\n",
       "<style scoped>\n",
       "    .dataframe tbody tr th:only-of-type {\n",
       "        vertical-align: middle;\n",
       "    }\n",
       "\n",
       "    .dataframe tbody tr th {\n",
       "        vertical-align: top;\n",
       "    }\n",
       "\n",
       "    .dataframe thead th {\n",
       "        text-align: right;\n",
       "    }\n",
       "</style>\n",
       "<table border=\"1\" class=\"dataframe\">\n",
       "  <thead>\n",
       "    <tr style=\"text-align: right;\">\n",
       "      <th></th>\n",
       "      <th>id</th>\n",
       "      <th>Area</th>\n",
       "      <th>MajorAxisLength</th>\n",
       "      <th>MinorAxisLength</th>\n",
       "      <th>Eccentricity</th>\n",
       "      <th>ConvexArea</th>\n",
       "      <th>EquivDiameter</th>\n",
       "      <th>Extent</th>\n",
       "      <th>Perimeter</th>\n",
       "      <th>Roundness</th>\n",
       "      <th>AspectRation</th>\n",
       "      <th>Class</th>\n",
       "    </tr>\n",
       "  </thead>\n",
       "  <tbody>\n",
       "    <tr>\n",
       "      <th>0</th>\n",
       "      <td>1</td>\n",
       "      <td>4537</td>\n",
       "      <td>92.229316</td>\n",
       "      <td>64.012769</td>\n",
       "      <td>0.719916</td>\n",
       "      <td>4677</td>\n",
       "      <td>76.004525</td>\n",
       "      <td>0.657536</td>\n",
       "      <td>273.085</td>\n",
       "      <td>0.764510</td>\n",
       "      <td>1.440796</td>\n",
       "      <td>1</td>\n",
       "    </tr>\n",
       "    <tr>\n",
       "      <th>1</th>\n",
       "      <td>2</td>\n",
       "      <td>2872</td>\n",
       "      <td>74.691881</td>\n",
       "      <td>51.400454</td>\n",
       "      <td>0.725553</td>\n",
       "      <td>3015</td>\n",
       "      <td>60.471018</td>\n",
       "      <td>0.713009</td>\n",
       "      <td>208.317</td>\n",
       "      <td>0.831658</td>\n",
       "      <td>1.453137</td>\n",
       "      <td>1</td>\n",
       "    </tr>\n",
       "    <tr>\n",
       "      <th>2</th>\n",
       "      <td>3</td>\n",
       "      <td>3048</td>\n",
       "      <td>76.293164</td>\n",
       "      <td>52.043491</td>\n",
       "      <td>0.731211</td>\n",
       "      <td>3132</td>\n",
       "      <td>62.296341</td>\n",
       "      <td>0.759153</td>\n",
       "      <td>210.012</td>\n",
       "      <td>0.868434</td>\n",
       "      <td>1.465950</td>\n",
       "      <td>1</td>\n",
       "    </tr>\n",
       "    <tr>\n",
       "      <th>3</th>\n",
       "      <td>4</td>\n",
       "      <td>3073</td>\n",
       "      <td>77.033628</td>\n",
       "      <td>51.928487</td>\n",
       "      <td>0.738639</td>\n",
       "      <td>3157</td>\n",
       "      <td>62.551300</td>\n",
       "      <td>0.783529</td>\n",
       "      <td>210.657</td>\n",
       "      <td>0.870203</td>\n",
       "      <td>1.483456</td>\n",
       "      <td>1</td>\n",
       "    </tr>\n",
       "    <tr>\n",
       "      <th>4</th>\n",
       "      <td>5</td>\n",
       "      <td>3693</td>\n",
       "      <td>85.124785</td>\n",
       "      <td>56.374021</td>\n",
       "      <td>0.749282</td>\n",
       "      <td>3802</td>\n",
       "      <td>68.571668</td>\n",
       "      <td>0.769375</td>\n",
       "      <td>230.332</td>\n",
       "      <td>0.874743</td>\n",
       "      <td>1.510000</td>\n",
       "      <td>1</td>\n",
       "    </tr>\n",
       "  </tbody>\n",
       "</table>\n",
       "</div>"
      ],
      "text/plain": [
       "   id  Area  MajorAxisLength  MinorAxisLength  Eccentricity  ConvexArea  \\\n",
       "0   1  4537        92.229316        64.012769      0.719916        4677   \n",
       "1   2  2872        74.691881        51.400454      0.725553        3015   \n",
       "2   3  3048        76.293164        52.043491      0.731211        3132   \n",
       "3   4  3073        77.033628        51.928487      0.738639        3157   \n",
       "4   5  3693        85.124785        56.374021      0.749282        3802   \n",
       "\n",
       "   EquivDiameter    Extent  Perimeter  Roundness  AspectRation  Class  \n",
       "0      76.004525  0.657536    273.085   0.764510      1.440796      1  \n",
       "1      60.471018  0.713009    208.317   0.831658      1.453137      1  \n",
       "2      62.296341  0.759153    210.012   0.868434      1.465950      1  \n",
       "3      62.551300  0.783529    210.657   0.870203      1.483456      1  \n",
       "4      68.571668  0.769375    230.332   0.874743      1.510000      1  "
      ]
     },
     "execution_count": 119,
     "metadata": {},
     "output_type": "execute_result"
    }
   ],
   "source": [
    "base_path = Path(os.getcwd()).resolve()\n",
    "\n",
    "data_df = pd.read_csv(base_path/\"rice-type-classification\"/\"riceClassification.csv\")\n",
    "data_df.head()"
   ]
  },
  {
   "cell_type": "code",
   "execution_count": 120,
   "id": "a3756306",
   "metadata": {},
   "outputs": [
    {
     "name": "stdout",
     "output_type": "stream",
     "text": [
      "(18185, 11)\n"
     ]
    }
   ],
   "source": [
    "data_df.dropna(inplace=True)\n",
    "data_df.drop(['id'], axis = 1, inplace = True)\n",
    "print(data_df.shape)"
   ]
  },
  {
   "cell_type": "code",
   "execution_count": 121,
   "id": "fa79247b",
   "metadata": {},
   "outputs": [
    {
     "name": "stdout",
     "output_type": "stream",
     "text": [
      "[1 0]\n"
     ]
    }
   ],
   "source": [
    "print(data_df[\"Class\"].unique())"
   ]
  },
  {
   "cell_type": "code",
   "execution_count": 122,
   "id": "cfc0e810",
   "metadata": {},
   "outputs": [
    {
     "name": "stdout",
     "output_type": "stream",
     "text": [
      "1    9985\n",
      "0    8200\n",
      "Name: Class, dtype: int64\n"
     ]
    }
   ],
   "source": [
    "print(data_df[\"Class\"].value_counts())"
   ]
  },
  {
   "cell_type": "code",
   "execution_count": 123,
   "id": "5a502287",
   "metadata": {},
   "outputs": [
    {
     "data": {
      "application/vnd.microsoft.datawrangler.viewer.v0+json": {
       "columns": [
        {
         "name": "index",
         "rawType": "int64",
         "type": "integer"
        },
        {
         "name": "Area",
         "rawType": "float64",
         "type": "float"
        },
        {
         "name": "MajorAxisLength",
         "rawType": "float64",
         "type": "float"
        },
        {
         "name": "MinorAxisLength",
         "rawType": "float64",
         "type": "float"
        },
        {
         "name": "Eccentricity",
         "rawType": "float64",
         "type": "float"
        },
        {
         "name": "ConvexArea",
         "rawType": "float64",
         "type": "float"
        },
        {
         "name": "EquivDiameter",
         "rawType": "float64",
         "type": "float"
        },
        {
         "name": "Extent",
         "rawType": "float64",
         "type": "float"
        },
        {
         "name": "Perimeter",
         "rawType": "float64",
         "type": "float"
        },
        {
         "name": "Roundness",
         "rawType": "float64",
         "type": "float"
        },
        {
         "name": "AspectRation",
         "rawType": "float64",
         "type": "float"
        },
        {
         "name": "Class",
         "rawType": "float64",
         "type": "float"
        }
       ],
       "conversionMethod": "pd.DataFrame",
       "ref": "c4f92e4d-8501-4fa6-820d-18e76901fa29",
       "rows": [
        [
         "0",
         "0.4443682664054848",
         "0.5034037138677628",
         "0.7754352242920274",
         "0.7446584966314234",
         "0.42487281976744184",
         "0.6666095307554322",
         "0.7416605159270876",
         "0.5370286975109683",
         "0.8449970045216327",
         "0.3683161616678025",
         "1.0"
        ],
        [
         "1",
         "0.2812928501469148",
         "0.40768132706677834",
         "0.62265269441464",
         "0.7504887352811009",
         "0.2738917151162791",
         "0.5303704838782493",
         "0.8042303233156763",
         "0.40966075463460966",
         "0.9192149780954131",
         "0.3714709308449068",
         "1.0"
        ],
        [
         "2",
         "0.2985308521057786",
         "0.4164214097763758",
         "0.6304422854915249",
         "0.756341377623323",
         "0.2845203488372093",
         "0.5463797691470589",
         "0.856278192087232",
         "0.4129940158619971",
         "0.959862053379731",
         "0.37474651361240285",
         "1.0"
        ],
        [
         "3",
         "0.3009794319294809",
         "0.4204629911461465",
         "0.6290491491103873",
         "0.7640244242887463",
         "0.28679142441860467",
         "0.5486159238952161",
         "0.8837724137636619",
         "0.41426242500162236",
         "0.9618178930029532",
         "0.3792216138434595",
         "1.0"
        ],
        [
         "4",
         "0.36170421155729676",
         "0.4646259380522595",
         "0.6829012730137105",
         "0.7750330860480433",
         "0.34538517441860467",
         "0.6014184995695068",
         "0.8678077826868464",
         "0.4529538200746886",
         "0.9668360431710832",
         "0.3860072079094026",
         "1.0"
        ]
       ],
       "shape": {
        "columns": 11,
        "rows": 5
       }
      },
      "text/html": [
       "<div>\n",
       "<style scoped>\n",
       "    .dataframe tbody tr th:only-of-type {\n",
       "        vertical-align: middle;\n",
       "    }\n",
       "\n",
       "    .dataframe tbody tr th {\n",
       "        vertical-align: top;\n",
       "    }\n",
       "\n",
       "    .dataframe thead th {\n",
       "        text-align: right;\n",
       "    }\n",
       "</style>\n",
       "<table border=\"1\" class=\"dataframe\">\n",
       "  <thead>\n",
       "    <tr style=\"text-align: right;\">\n",
       "      <th></th>\n",
       "      <th>Area</th>\n",
       "      <th>MajorAxisLength</th>\n",
       "      <th>MinorAxisLength</th>\n",
       "      <th>Eccentricity</th>\n",
       "      <th>ConvexArea</th>\n",
       "      <th>EquivDiameter</th>\n",
       "      <th>Extent</th>\n",
       "      <th>Perimeter</th>\n",
       "      <th>Roundness</th>\n",
       "      <th>AspectRation</th>\n",
       "      <th>Class</th>\n",
       "    </tr>\n",
       "  </thead>\n",
       "  <tbody>\n",
       "    <tr>\n",
       "      <th>0</th>\n",
       "      <td>0.444368</td>\n",
       "      <td>0.503404</td>\n",
       "      <td>0.775435</td>\n",
       "      <td>0.744658</td>\n",
       "      <td>0.424873</td>\n",
       "      <td>0.666610</td>\n",
       "      <td>0.741661</td>\n",
       "      <td>0.537029</td>\n",
       "      <td>0.844997</td>\n",
       "      <td>0.368316</td>\n",
       "      <td>1.0</td>\n",
       "    </tr>\n",
       "    <tr>\n",
       "      <th>1</th>\n",
       "      <td>0.281293</td>\n",
       "      <td>0.407681</td>\n",
       "      <td>0.622653</td>\n",
       "      <td>0.750489</td>\n",
       "      <td>0.273892</td>\n",
       "      <td>0.530370</td>\n",
       "      <td>0.804230</td>\n",
       "      <td>0.409661</td>\n",
       "      <td>0.919215</td>\n",
       "      <td>0.371471</td>\n",
       "      <td>1.0</td>\n",
       "    </tr>\n",
       "    <tr>\n",
       "      <th>2</th>\n",
       "      <td>0.298531</td>\n",
       "      <td>0.416421</td>\n",
       "      <td>0.630442</td>\n",
       "      <td>0.756341</td>\n",
       "      <td>0.284520</td>\n",
       "      <td>0.546380</td>\n",
       "      <td>0.856278</td>\n",
       "      <td>0.412994</td>\n",
       "      <td>0.959862</td>\n",
       "      <td>0.374747</td>\n",
       "      <td>1.0</td>\n",
       "    </tr>\n",
       "    <tr>\n",
       "      <th>3</th>\n",
       "      <td>0.300979</td>\n",
       "      <td>0.420463</td>\n",
       "      <td>0.629049</td>\n",
       "      <td>0.764024</td>\n",
       "      <td>0.286791</td>\n",
       "      <td>0.548616</td>\n",
       "      <td>0.883772</td>\n",
       "      <td>0.414262</td>\n",
       "      <td>0.961818</td>\n",
       "      <td>0.379222</td>\n",
       "      <td>1.0</td>\n",
       "    </tr>\n",
       "    <tr>\n",
       "      <th>4</th>\n",
       "      <td>0.361704</td>\n",
       "      <td>0.464626</td>\n",
       "      <td>0.682901</td>\n",
       "      <td>0.775033</td>\n",
       "      <td>0.345385</td>\n",
       "      <td>0.601418</td>\n",
       "      <td>0.867808</td>\n",
       "      <td>0.452954</td>\n",
       "      <td>0.966836</td>\n",
       "      <td>0.386007</td>\n",
       "      <td>1.0</td>\n",
       "    </tr>\n",
       "  </tbody>\n",
       "</table>\n",
       "</div>"
      ],
      "text/plain": [
       "       Area  MajorAxisLength  MinorAxisLength  Eccentricity  ConvexArea  \\\n",
       "0  0.444368         0.503404         0.775435      0.744658    0.424873   \n",
       "1  0.281293         0.407681         0.622653      0.750489    0.273892   \n",
       "2  0.298531         0.416421         0.630442      0.756341    0.284520   \n",
       "3  0.300979         0.420463         0.629049      0.764024    0.286791   \n",
       "4  0.361704         0.464626         0.682901      0.775033    0.345385   \n",
       "\n",
       "   EquivDiameter    Extent  Perimeter  Roundness  AspectRation  Class  \n",
       "0       0.666610  0.741661   0.537029   0.844997      0.368316    1.0  \n",
       "1       0.530370  0.804230   0.409661   0.919215      0.371471    1.0  \n",
       "2       0.546380  0.856278   0.412994   0.959862      0.374747    1.0  \n",
       "3       0.548616  0.883772   0.414262   0.961818      0.379222    1.0  \n",
       "4       0.601418  0.867808   0.452954   0.966836      0.386007    1.0  "
      ]
     },
     "execution_count": 123,
     "metadata": {},
     "output_type": "execute_result"
    }
   ],
   "source": [
    "original_df = data_df.copy()\n",
    "\n",
    "for column in data_df.columns:\n",
    "    data_df[column] = data_df[column]/data_df[column].abs().max()\n",
    "\n",
    "data_df.head()"
   ]
  },
  {
   "cell_type": "code",
   "execution_count": 124,
   "id": "71a35756",
   "metadata": {},
   "outputs": [],
   "source": [
    "X = np.array(data_df.iloc[:,:-1])\n",
    "y = np.array(data_df.iloc[:,-1])"
   ]
  },
  {
   "cell_type": "code",
   "execution_count": 125,
   "id": "13bbdff4",
   "metadata": {},
   "outputs": [],
   "source": [
    "X_train, X_test, y_train, y_test = train_test_split(X, y, test_size=0.3)\n",
    "X_test, X_val, y_test, y_val = train_test_split(X_test, y_test, test_size=0.5)"
   ]
  },
  {
   "cell_type": "code",
   "execution_count": 126,
   "id": "f478d2fe",
   "metadata": {},
   "outputs": [
    {
     "name": "stdout",
     "output_type": "stream",
     "text": [
      "(12729, 10)\n",
      "(2728, 10)\n",
      "(2728, 10)\n"
     ]
    }
   ],
   "source": [
    "print(X_train.shape)\n",
    "print(X_val.shape)\n",
    "print(X_test.shape)"
   ]
  },
  {
   "cell_type": "code",
   "execution_count": 127,
   "id": "b2d87086",
   "metadata": {},
   "outputs": [],
   "source": [
    "class TabularDataset(Dataset):\n",
    "    def __init__(self, X, y):\n",
    "        self.X = torch.tensor(X, dtype=torch.float32).to(device)\n",
    "        self.y = torch.tensor(y, dtype=torch.float32).to(device)\n",
    "\n",
    "    def __len__(self):\n",
    "        return len(self.X)\n",
    "    \n",
    "    def __getitem__(self, index):\n",
    "        return self.X[index], self.y[index]"
   ]
  },
  {
   "cell_type": "code",
   "execution_count": 128,
   "id": "e799c031",
   "metadata": {},
   "outputs": [],
   "source": [
    "training_data = TabularDataset(X_train, y_train)\n",
    "validation_data = TabularDataset(X_val, y_val)\n",
    "testing_data = TabularDataset(X_test, y_test)"
   ]
  },
  {
   "cell_type": "code",
   "execution_count": 129,
   "id": "0984a8f2",
   "metadata": {},
   "outputs": [],
   "source": [
    "train_dataloader = DataLoader(training_data, batch_size = 32, shuffle=True)\n",
    "validation_dataloader = DataLoader(validation_data, batch_size = 32, shuffle=True)\n",
    "testing_dataloader = DataLoader(testing_data, batch_size = 32, shuffle=False)"
   ]
  },
  {
   "cell_type": "code",
   "execution_count": 130,
   "id": "2d2f9ce0",
   "metadata": {},
   "outputs": [
    {
     "name": "stdout",
     "output_type": "stream",
     "text": [
      "tensor([[0.6062, 0.8029, 0.6615, 0.9605, 0.5810, 0.7786, 0.5771, 0.6989, 0.6805,\n",
      "         0.6887],\n",
      "        [0.6112, 0.8563, 0.6231, 0.9772, 0.5862, 0.7818, 0.7124, 0.6968, 0.6903,\n",
      "         0.7797],\n",
      "        [0.6239, 0.9001, 0.6037, 0.9860, 0.5955, 0.7899, 0.5193, 0.7098, 0.6791,\n",
      "         0.8459],\n",
      "        [0.4565, 0.7350, 0.5414, 0.9757, 0.4335, 0.6757, 0.7376, 0.5861, 0.7288,\n",
      "         0.7703],\n",
      "        [0.3597, 0.5415, 0.5856, 0.9033, 0.3416, 0.5998, 0.8991, 0.4744, 0.8766,\n",
      "         0.5247],\n",
      "        [0.5627, 0.5776, 0.8564, 0.7697, 0.5317, 0.7501, 0.8411, 0.5609, 0.9807,\n",
      "         0.3826],\n",
      "        [0.8694, 0.8637, 0.8791, 0.9192, 0.8329, 0.9324, 0.6576, 0.7593, 0.8271,\n",
      "         0.5574],\n",
      "        [0.6790, 0.9203, 0.6497, 0.9807, 0.6461, 0.8240, 0.5621, 0.7258, 0.7070,\n",
      "         0.8037],\n",
      "        [0.7167, 0.7728, 0.8040, 0.9137, 0.6866, 0.8466, 0.6859, 0.6966, 0.8100,\n",
      "         0.5453],\n",
      "        [0.5800, 0.7909, 0.6419, 0.9627, 0.5519, 0.7616, 0.6357, 0.6518, 0.7488,\n",
      "         0.6991],\n",
      "        [0.8663, 0.8791, 0.8579, 0.9290, 0.8192, 0.9308, 0.6491, 0.7538, 0.8361,\n",
      "         0.5814],\n",
      "        [0.6279, 0.8350, 0.6561, 0.9674, 0.5970, 0.7924, 0.9096, 0.6762, 0.7531,\n",
      "         0.7220],\n",
      "        [0.4925, 0.7801, 0.5460, 0.9816, 0.4694, 0.7018, 0.7582, 0.6200, 0.7026,\n",
      "         0.8107],\n",
      "        [0.5714, 0.7479, 0.6695, 0.9465, 0.5451, 0.7559, 0.6057, 0.6181, 0.8201,\n",
      "         0.6338],\n",
      "        [0.8188, 0.8553, 0.8369, 0.9284, 0.7878, 0.9049, 0.6529, 0.7381, 0.8243,\n",
      "         0.5798],\n",
      "        [0.6339, 0.8493, 0.6519, 0.9705, 0.6014, 0.7962, 0.6120, 0.6894, 0.7313,\n",
      "         0.7391],\n",
      "        [0.7281, 0.7950, 0.8035, 0.9209, 0.6915, 0.8533, 0.7052, 0.6957, 0.8251,\n",
      "         0.5613],\n",
      "        [0.5621, 0.7743, 0.6270, 0.9631, 0.5351, 0.7497, 0.8591, 0.6326, 0.7702,\n",
      "         0.7006],\n",
      "        [0.7375, 0.8024, 0.7982, 0.9247, 0.6950, 0.8588, 0.6560, 0.6816, 0.8706,\n",
      "         0.5704],\n",
      "        [0.6148, 0.8430, 0.6372, 0.9725, 0.5865, 0.7841, 0.6070, 0.6806, 0.7278,\n",
      "         0.7506],\n",
      "        [0.6197, 0.8480, 0.6326, 0.9742, 0.5860, 0.7872, 0.5352, 0.6799, 0.7352,\n",
      "         0.7606],\n",
      "        [0.5905, 0.8173, 0.6332, 0.9693, 0.5648, 0.7684, 0.7265, 0.6725, 0.7160,\n",
      "         0.7323],\n",
      "        [0.5704, 0.7929, 0.6294, 0.9659, 0.5416, 0.7553, 0.7897, 0.6431, 0.7563,\n",
      "         0.7147],\n",
      "        [0.3377, 0.5118, 0.5834, 0.8875, 0.3229, 0.5811, 0.6355, 0.4651, 0.8561,\n",
      "         0.4977],\n",
      "        [0.5377, 0.7831, 0.6004, 0.9707, 0.5117, 0.7333, 0.7425, 0.6371, 0.7265,\n",
      "         0.7400],\n",
      "        [0.4881, 0.6943, 0.6174, 0.9477, 0.4628, 0.6987, 0.6654, 0.5783, 0.8004,\n",
      "         0.6381],\n",
      "        [0.6574, 0.8464, 0.6777, 0.9647, 0.6238, 0.8108, 0.9104, 0.6944, 0.7478,\n",
      "         0.7086],\n",
      "        [0.6598, 0.7593, 0.7588, 0.9236, 0.6245, 0.8123, 0.7827, 0.6509, 0.8541,\n",
      "         0.5677],\n",
      "        [0.8365, 0.8600, 0.8474, 0.9269, 0.7991, 0.9146, 0.7333, 0.7408, 0.8360,\n",
      "         0.5758],\n",
      "        [0.4692, 0.7027, 0.5835, 0.9592, 0.4463, 0.6850, 0.8248, 0.5765, 0.7742,\n",
      "         0.6833],\n",
      "        [0.7486, 0.7737, 0.8433, 0.9010, 0.7084, 0.8652, 0.6948, 0.6822, 0.8820,\n",
      "         0.5205],\n",
      "        [0.6383, 0.8520, 0.6591, 0.9695, 0.6195, 0.7989, 0.5490, 0.7158, 0.6832,\n",
      "         0.7334]], device='cuda:0')\n",
      "======\n",
      "tensor([1., 1., 1., 1., 1., 0., 0., 1., 0., 1., 0., 1., 1., 1., 0., 1., 0., 1.,\n",
      "        0., 1., 1., 1., 1., 1., 1., 1., 1., 0., 0., 1., 0., 1.],\n",
      "       device='cuda:0')\n"
     ]
    }
   ],
   "source": [
    "for x, y in train_dataloader:\n",
    "    print(x)\n",
    "    print(\"======\")\n",
    "    print(y)\n",
    "    break"
   ]
  },
  {
   "cell_type": "code",
   "execution_count": 131,
   "id": "e9aa5f1c",
   "metadata": {},
   "outputs": [],
   "source": [
    "HIDDEN_NEURONS = 15\n",
    "\n",
    "class MyModel(nn.Module):\n",
    "    def __init__(self):\n",
    "        super(MyModel, self).__init__()\n",
    "\n",
    "        self.input_layer = nn.Linear(X.shape[1], HIDDEN_NEURONS)\n",
    "        self.linear = nn.Linear(HIDDEN_NEURONS, 1)\n",
    "        self.sigmoid = nn.Sigmoid()\n",
    "\n",
    "    def forward(self, x):\n",
    "        x = self.input_layer(x)\n",
    "        x = self.linear(x)\n",
    "        x = self.sigmoid(x)\n",
    "        return x\n",
    "    \n",
    "model = MyModel().to(device)"
   ]
  },
  {
   "cell_type": "code",
   "execution_count": 132,
   "id": "b55f660c",
   "metadata": {},
   "outputs": [
    {
     "name": "stdout",
     "output_type": "stream",
     "text": [
      "----------------------------------------------------------------\n",
      "        Layer (type)               Output Shape         Param #\n",
      "================================================================\n",
      "            Linear-1                   [-1, 15]             165\n",
      "            Linear-2                    [-1, 1]              16\n",
      "           Sigmoid-3                    [-1, 1]               0\n",
      "================================================================\n",
      "Total params: 181\n",
      "Trainable params: 181\n",
      "Non-trainable params: 0\n",
      "----------------------------------------------------------------\n",
      "Input size (MB): 0.00\n",
      "Forward/backward pass size (MB): 0.00\n",
      "Params size (MB): 0.00\n",
      "Estimated Total Size (MB): 0.00\n",
      "----------------------------------------------------------------\n"
     ]
    }
   ],
   "source": [
    "summary(model, (X.shape[1],))"
   ]
  },
  {
   "cell_type": "code",
   "execution_count": 133,
   "id": "18981e6f",
   "metadata": {},
   "outputs": [],
   "source": [
    "criterion = nn.BCELoss()\n",
    "optimizer = Adam(model.parameters(), lr = 1e-4)"
   ]
  },
  {
   "cell_type": "code",
   "execution_count": 134,
   "id": "d0637212",
   "metadata": {},
   "outputs": [
    {
     "name": "stdout",
     "output_type": "stream",
     "text": [
      "Epoch no. 1 Train Loss:0.2711 Train Accuracy 54.474\n",
      "            Validation Loss: 0.0577 Validation Accuracy: 57.0015\n",
      "=========================\n",
      "Epoch no. 2 Train Loss:0.2642 Train Accuracy 70.6261\n",
      "            Validation Loss: 0.0561 Validation Accuracy: 81.3783\n",
      "=========================\n",
      "Epoch no. 3 Train Loss:0.256 Train Accuracy 86.7625\n",
      "            Validation Loss: 0.0542 Validation Accuracy: 91.7522\n",
      "=========================\n",
      "Epoch no. 4 Train Loss:0.246 Train Accuracy 93.0159\n",
      "            Validation Loss: 0.0518 Validation Accuracy: 94.7947\n",
      "=========================\n",
      "Epoch no. 5 Train Loss:0.2341 Train Accuracy 95.2706\n",
      "            Validation Loss: 0.0489 Validation Accuracy: 96.1877\n",
      "=========================\n",
      "Epoch no. 6 Train Loss:0.2204 Train Accuracy 96.3626\n",
      "            Validation Loss: 0.0458 Validation Accuracy: 96.8475\n",
      "=========================\n",
      "Epoch no. 7 Train Loss:0.2054 Train Accuracy 97.1404\n",
      "            Validation Loss: 0.0424 Validation Accuracy: 97.2141\n",
      "=========================\n",
      "Epoch no. 8 Train Loss:0.1897 Train Accuracy 97.2189\n",
      "            Validation Loss: 0.0389 Validation Accuracy: 97.9472\n",
      "=========================\n",
      "Epoch no. 9 Train Loss:0.1737 Train Accuracy 97.596\n",
      "            Validation Loss: 0.0355 Validation Accuracy: 98.0205\n",
      "=========================\n",
      "Epoch no. 10 Train Loss:0.1581 Train Accuracy 97.7453\n",
      "            Validation Loss: 0.0322 Validation Accuracy: 98.0205\n",
      "=========================\n"
     ]
    }
   ],
   "source": [
    "total_loss_train_plot = []\n",
    "total_loss_validation_plot = []\n",
    "total_acc_train_plot = []\n",
    "total_acc_validation_plot = []\n",
    "\n",
    "epochs = 10\n",
    "for epoch in range(epochs):\n",
    "    total_acc_train = 0\n",
    "    total_loss_train = 0\n",
    "    total_acc_val = 0\n",
    "    total_loss_val = 0\n",
    "\n",
    "    for data in train_dataloader:\n",
    "        inputs, labels = data\n",
    "        \n",
    "        prediction = model(inputs).squeeze(1)\n",
    "\n",
    "        batch_loss = criterion(prediction, labels)\n",
    "\n",
    "        total_loss_train += batch_loss.item()\n",
    "\n",
    "        acc = ((prediction).round() == labels).sum().item()\n",
    "\n",
    "        total_acc_train += acc\n",
    "\n",
    "        batch_loss.backward()\n",
    "        optimizer.step()\n",
    "        optimizer.zero_grad()\n",
    "    \n",
    "    with torch.no_grad():\n",
    "        for data in validation_dataloader:\n",
    "            inputs, labels = data\n",
    "\n",
    "            prediction = model(inputs).squeeze(1)\n",
    "            batch_loss = criterion(prediction, labels)\n",
    "\n",
    "            total_loss_val += batch_loss.item()\n",
    "            acc = ((prediction).round() == labels).sum().item()\n",
    "\n",
    "            total_acc_val += acc\n",
    "    total_loss_train_plot.append(round(total_loss_train/1000, 4))  \n",
    "    total_loss_validation_plot.append(round(total_loss_val/1000, 4))  \n",
    "\n",
    "    total_acc_train_plot.append(round(total_acc_train/training_data.__len__() * 100, 4))  \n",
    "    total_acc_validation_plot.append(round(total_acc_val/validation_data.__len__() * 100, 4))  \n",
    "\n",
    "    print(f'''Epoch no. {epoch+1} Train Loss:{round(total_loss_train/1000, 4)} Train Accuracy {round(total_acc_train/training_data.__len__() * 100, 4)}\n",
    "            Validation Loss: {round(total_loss_val/1000, 4)} Validation Accuracy: {round(total_acc_val/validation_data.__len__() * 100, 4)}''')\n",
    "    print(\"=\"*25)\n",
    "    \n"
   ]
  },
  {
   "cell_type": "code",
   "execution_count": 135,
   "id": "066c9e28",
   "metadata": {},
   "outputs": [
    {
     "name": "stdout",
     "output_type": "stream",
     "text": [
      "Accuracy:  98.2405\n"
     ]
    }
   ],
   "source": [
    "with torch.no_grad():\n",
    "    total_loss_test = 0\n",
    "    total_acc_test = 0\n",
    "    \n",
    "    for data in testing_dataloader:\n",
    "        input, labels = data\n",
    "        \n",
    "        prediction = model(input).squeeze(1)\n",
    "\n",
    "        batch_loss_test = criterion(prediction, labels).item()\n",
    "        total_loss_test += batch_loss_test\n",
    "\n",
    "        acc = ((prediction).round() == labels).sum().item()\n",
    "\n",
    "        total_acc_test += acc\n",
    "\n",
    "print(\"Accuracy: \", round(total_acc_test/testing_data.__len__() *100, 4))"
   ]
  },
  {
   "cell_type": "code",
   "execution_count": 136,
   "id": "92a0dffb",
   "metadata": {},
   "outputs": [
    {
     "data": {
      "image/png": "[encoded data removed]",
      "text/plain": [
       "<Figure size 1500x500 with 2 Axes>"
      ]
     },
     "metadata": {},
     "output_type": "display_data"
    }
   ],
   "source": [
    "fig, axs = plt.subplots(nrows = 1, ncols = 2, figsize=(15,5))\n",
    "\n",
    "axs[0].plot(total_loss_train_plot, label = 'Training Loss')\n",
    "axs[0].plot(total_loss_validation_plot, label = 'Validation Loss')\n",
    "axs[0].set_title(\"Training and Validation loss over epochs\")\n",
    "axs[0].set_xlabel(\"Epochs\")\n",
    "axs[0].set_ylabel(\"Loss\")\n",
    "axs[0].set_ylim([0,2])\n",
    "axs[0].legend()\n",
    "\n",
    "axs[1].plot(total_acc_train_plot, label = 'Training Accuracy')\n",
    "axs[1].plot(total_acc_validation_plot, label = 'Validation Accuracy')\n",
    "axs[1].set_title(\"Training and Validation Accuracy over epochs\")\n",
    "axs[1].set_xlabel(\"Epochs\")\n",
    "axs[1].set_ylabel(\"Accuracy\")\n",
    "axs[1].set_ylim([0,100])\n",
    "axs[1].legend()\n",
    "\n",
    "plt.show()"
   ]
  },
  {
   "cell_type": "code",
   "execution_count": 137,
   "id": "2b3600c0",
   "metadata": {},
   "outputs": [
    {
     "data": {
      "text/plain": [
       "Index(['Area', 'MajorAxisLength', 'MinorAxisLength', 'Eccentricity',\n",
       "       'ConvexArea', 'EquivDiameter', 'Extent', 'Perimeter', 'Roundness',\n",
       "       'AspectRation', 'Class'],\n",
       "      dtype='object')"
      ]
     },
     "execution_count": 137,
     "metadata": {},
     "output_type": "execute_result"
    }
   ],
   "source": [
    "original_df.columns"
   ]
  },
  {
   "cell_type": "code",
   "execution_count": 138,
   "id": "b4b71d02",
   "metadata": {},
   "outputs": [],
   "source": [
    "# Normalization of new values to run in model\n",
    "\n",
    "Area = 2353/original_df['Area'].abs().max()\n",
    "MajorAxisLength = 42/original_df['MajorAxisLength'].abs().max()\n",
    "MinorAxisLength = 81/original_df['MinorAxisLength'].abs().max()\n",
    "Eccentricity = 12/original_df['Eccentricity'].abs().max()\n",
    "ConvexArea = 32/original_df['ConvexArea'].abs().max()\n",
    "EquivDiameter = 33/original_df['EquivDiameter'].abs().max()\n",
    "Extent = 98/original_df['Extent'].abs().max()\n",
    "Perimeter = 927/original_df['Perimeter'].abs().max()\n",
    "Roundness = 677/original_df['Roundness'].abs().max()\n",
    "AspectRation = 24/original_df['AspectRation'].abs().max()\n",
    "\n",
    "my_prediction = model(torch.tensor([Area, MajorAxisLength, MinorAxisLength, Eccentricity,ConvexArea, EquivDiameter, Extent, Perimeter, Roundness,AspectRation], dtype = torch.float32).to(device))"
   ]
  },
  {
   "cell_type": "code",
   "execution_count": 143,
   "id": "fa50a139",
   "metadata": {},
   "outputs": [
    {
     "name": "stdout",
     "output_type": "stream",
     "text": [
      "The new sample's class is Gonen\n"
     ]
    }
   ],
   "source": [
    "# Based on the dataset \n",
    "# Jasmine - 1, Gonen - 0.\n",
    "\n",
    "if my_prediction <= 0.5:\n",
    "    print(\"The new sample's class is Gonen\")\n",
    "else:\n",
    "    print(\"The new sample's class is Jasmine\")"
   ]
  },
  {
   "cell_type": "code",
   "execution_count": null,
   "id": "a94e9e64",
   "metadata": {},
   "outputs": [],
   "source": []
  }
 ],
 "metadata": {
  "kernelspec": {
   "display_name": "base",
   "language": "python",
   "name": "python3"
  },
  "language_info": {
   "codemirror_mode": {
    "name": "ipython",
    "version": 3
   },
   "file_extension": ".py",
   "mimetype": "text/x-python",
   "name": "python",
   "nbconvert_exporter": "python",
   "pygments_lexer": "ipython3",
   "version": "3.12.7"
  }
 },
 "nbformat": 4,
 "nbformat_minor": 5
}
